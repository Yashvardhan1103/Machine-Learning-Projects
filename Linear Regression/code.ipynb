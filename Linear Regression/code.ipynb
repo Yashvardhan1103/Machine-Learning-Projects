{
 "cells": [
  {
   "cell_type": "code",
   "execution_count": 257,
   "metadata": {},
   "outputs": [],
   "source": [
    "import numpy as np\n",
    "import matplotlib.pyplot as plt"
   ]
  },
  {
   "cell_type": "markdown",
   "metadata": {},
   "source": [
    "## Dataset"
   ]
  },
  {
   "cell_type": "code",
   "execution_count": 258,
   "metadata": {},
   "outputs": [],
   "source": [
    "def generate_examples(num = 1000):\n",
    "    W = [1.0, -3.0]\n",
    "    B = 1.0\n",
    "    W = np.reshape(W, (2, 1))\n",
    "    X = np.random.randn(num, 2)\n",
    "    Y = B + np.dot(X, W)\n",
    "    Y = np.reshape(Y, (num, 1))\n",
    "    return X, Y"
   ]
  },
  {
   "cell_type": "code",
   "execution_count": 259,
   "metadata": {},
   "outputs": [],
   "source": [
    "X, Y = generate_examples()"
   ]
  },
  {
   "cell_type": "code",
   "execution_count": 260,
   "metadata": {},
   "outputs": [
    {
     "name": "stdout",
     "output_type": "stream",
     "text": [
      "(1000, 2) (1000, 1)\n"
     ]
    }
   ],
   "source": [
    "print(X.shape, Y.shape)"
   ]
  },
  {
   "cell_type": "markdown",
   "metadata": {},
   "source": [
    "## Initialize Parameters"
   ]
  },
  {
   "cell_type": "code",
   "execution_count": 261,
   "metadata": {},
   "outputs": [],
   "source": [
    "class Model:\n",
    "    def __init__(self, no_of_features):\n",
    "        self.no_of_features = no_of_features\n",
    "        self.W = np.random.randn(no_of_features, 1)\n",
    "        self.B = np.random.randn()"
   ]
  },
  {
   "cell_type": "code",
   "execution_count": 262,
   "metadata": {},
   "outputs": [
    {
     "name": "stdout",
     "output_type": "stream",
     "text": [
      "[[-0.16973619]\n",
      " [ 0.73617262]]\n",
      "-0.6559738416216822\n"
     ]
    }
   ],
   "source": [
    "model = Model(2)\n",
    "print(model.W)\n",
    "print(model.B)"
   ]
  },
  {
   "cell_type": "markdown",
   "metadata": {},
   "source": [
    "## Forward Pass"
   ]
  },
  {
   "cell_type": "code",
   "execution_count": 263,
   "metadata": {},
   "outputs": [],
   "source": [
    "class Model(Model):\n",
    "    def forward_pass(self, X):\n",
    "        y_hat = self.B + np.dot(X, self.W)\n",
    "        return y_hat"
   ]
  },
  {
   "cell_type": "code",
   "execution_count": 264,
   "metadata": {},
   "outputs": [
    {
     "name": "stdout",
     "output_type": "stream",
     "text": [
      "(1000, 1) [-2.14922997]\n"
     ]
    }
   ],
   "source": [
    "y_hat = Model(2).forward_pass(X)\n",
    "print(y_hat.shape, y_hat[0])"
   ]
  },
  {
   "cell_type": "markdown",
   "metadata": {},
   "source": [
    "## Compute Loss"
   ]
  },
  {
   "cell_type": "code",
   "execution_count": 265,
   "metadata": {},
   "outputs": [],
   "source": [
    "class Model(Model):\n",
    "    def compute_loss(self, y_hat, y_true):\n",
    "        return np.sum(np.square(y_hat - y_true)) / (2 * y_hat.shape[0])"
   ]
  },
  {
   "cell_type": "code",
   "execution_count": 266,
   "metadata": {},
   "outputs": [],
   "source": [
    "model = Model(2)\n",
    "y_hat = model.forward_pass(X)\n",
    "loss = model.compute_loss(y_hat, Y)"
   ]
  },
  {
   "cell_type": "code",
   "execution_count": 267,
   "metadata": {},
   "outputs": [
    {
     "data": {
      "text/plain": [
       "17.596037549070637"
      ]
     },
     "execution_count": 267,
     "metadata": {},
     "output_type": "execute_result"
    }
   ],
   "source": [
    "loss"
   ]
  },
  {
   "cell_type": "markdown",
   "metadata": {},
   "source": [
    "## Backward Pass"
   ]
  },
  {
   "cell_type": "code",
   "execution_count": 268,
   "metadata": {},
   "outputs": [],
   "source": [
    "class Model(Model):\n",
    "    def backward_pass(self, X, y_hat, y_true):\n",
    "        m = y_hat.shape[0]\n",
    "        dj_db = np.sum(y_hat - y_true) / m\n",
    "        dj_dw = np.sum(np.dot(np.reshape((y_hat - y_true), (1, m)), X), axis = 0) / m\n",
    "        return dj_dw, dj_db"
   ]
  },
  {
   "cell_type": "code",
   "execution_count": 269,
   "metadata": {},
   "outputs": [],
   "source": [
    "model = Model(2)\n",
    "y_hat = model.forward_pass(X)\n",
    "dj_dw, dj_db = model.backward_pass(X, y_hat, Y)"
   ]
  },
  {
   "cell_type": "code",
   "execution_count": 270,
   "metadata": {},
   "outputs": [
    {
     "name": "stdout",
     "output_type": "stream",
     "text": [
      "[-0.78707502  2.81524732] -2.396951165502013\n"
     ]
    }
   ],
   "source": [
    "print(dj_dw, dj_db)"
   ]
  },
  {
   "cell_type": "markdown",
   "metadata": {},
   "source": [
    "## Update Parameters"
   ]
  },
  {
   "cell_type": "code",
   "execution_count": 271,
   "metadata": {},
   "outputs": [],
   "source": [
    "class Model(Model):\n",
    "    def update_parameters(self, dj_dw, dj_db, lr):\n",
    "        self.W = self.W - lr * (np.reshape(dj_dw, self.W.shape))\n",
    "        self.B = self.B - lr * dj_db"
   ]
  },
  {
   "cell_type": "markdown",
   "metadata": {},
   "source": [
    "## Training Loop"
   ]
  },
  {
   "cell_type": "code",
   "execution_count": 272,
   "metadata": {},
   "outputs": [],
   "source": [
    "class Model(Model):\n",
    "    def train(self, x_train, y_train, iterations, lr):\n",
    "        losses = []\n",
    "        for i in range(iterations):\n",
    "            y_hat = self.forward_pass(x_train)\n",
    "            loss = self.compute_loss(y_hat, y_train)\n",
    "            dj_dw, dj_db = self.backward_pass(x_train, y_hat, y_train)\n",
    "            self.update_parameters(dj_dw, dj_db, lr)\n",
    "            losses.append(loss)\n",
    "            if (i % 10 == 0):\n",
    "                print('Iter : {}, Loss = {:.4f}'.format(i, loss))\n",
    "        return losses"
   ]
  },
  {
   "cell_type": "code",
   "execution_count": 273,
   "metadata": {},
   "outputs": [],
   "source": [
    "model = Model(2)"
   ]
  },
  {
   "cell_type": "code",
   "execution_count": 274,
   "metadata": {},
   "outputs": [],
   "source": [
    "x_train, y_train = generate_examples()"
   ]
  },
  {
   "cell_type": "code",
   "execution_count": 275,
   "metadata": {},
   "outputs": [
    {
     "name": "stdout",
     "output_type": "stream",
     "text": [
      "Iter : 0, Loss = 6.4386\n",
      "Iter : 10, Loss = 6.0429\n",
      "Iter : 20, Loss = 5.6714\n",
      "Iter : 30, Loss = 5.3229\n",
      "Iter : 40, Loss = 4.9957\n",
      "Iter : 50, Loss = 4.6887\n",
      "Iter : 60, Loss = 4.4005\n",
      "Iter : 70, Loss = 4.1301\n",
      "Iter : 80, Loss = 3.8763\n",
      "Iter : 90, Loss = 3.6381\n",
      "Iter : 100, Loss = 3.4145\n",
      "Iter : 110, Loss = 3.2047\n",
      "Iter : 120, Loss = 3.0077\n",
      "Iter : 130, Loss = 2.8229\n",
      "Iter : 140, Loss = 2.6494\n",
      "Iter : 150, Loss = 2.4866\n",
      "Iter : 160, Loss = 2.3338\n",
      "Iter : 170, Loss = 2.1904\n",
      "Iter : 180, Loss = 2.0559\n",
      "Iter : 190, Loss = 1.9295\n",
      "Iter : 200, Loss = 1.8110\n",
      "Iter : 210, Loss = 1.6997\n",
      "Iter : 220, Loss = 1.5953\n",
      "Iter : 230, Loss = 1.4973\n",
      "Iter : 240, Loss = 1.4053\n",
      "Iter : 250, Loss = 1.3190\n",
      "Iter : 260, Loss = 1.2379\n",
      "Iter : 270, Loss = 1.1619\n",
      "Iter : 280, Loss = 1.0905\n",
      "Iter : 290, Loss = 1.0235\n",
      "Iter : 300, Loss = 0.9606\n",
      "Iter : 310, Loss = 0.9016\n",
      "Iter : 320, Loss = 0.8462\n",
      "Iter : 330, Loss = 0.7943\n",
      "Iter : 340, Loss = 0.7455\n",
      "Iter : 350, Loss = 0.6997\n",
      "Iter : 360, Loss = 0.6567\n",
      "Iter : 370, Loss = 0.6164\n",
      "Iter : 380, Loss = 0.5785\n",
      "Iter : 390, Loss = 0.5430\n",
      "Iter : 400, Loss = 0.5096\n",
      "Iter : 410, Loss = 0.4783\n",
      "Iter : 420, Loss = 0.4490\n",
      "Iter : 430, Loss = 0.4214\n",
      "Iter : 440, Loss = 0.3955\n",
      "Iter : 450, Loss = 0.3712\n",
      "Iter : 460, Loss = 0.3484\n",
      "Iter : 470, Loss = 0.3270\n",
      "Iter : 480, Loss = 0.3070\n",
      "Iter : 490, Loss = 0.2881\n",
      "Iter : 500, Loss = 0.2704\n",
      "Iter : 510, Loss = 0.2538\n",
      "Iter : 520, Loss = 0.2382\n",
      "Iter : 530, Loss = 0.2236\n",
      "Iter : 540, Loss = 0.2099\n",
      "Iter : 550, Loss = 0.1970\n",
      "Iter : 560, Loss = 0.1849\n",
      "Iter : 570, Loss = 0.1735\n",
      "Iter : 580, Loss = 0.1629\n",
      "Iter : 590, Loss = 0.1529\n",
      "Iter : 600, Loss = 0.1435\n",
      "Iter : 610, Loss = 0.1347\n",
      "Iter : 620, Loss = 0.1264\n",
      "Iter : 630, Loss = 0.1187\n",
      "Iter : 640, Loss = 0.1114\n",
      "Iter : 650, Loss = 0.1045\n",
      "Iter : 660, Loss = 0.0981\n",
      "Iter : 670, Loss = 0.0921\n",
      "Iter : 680, Loss = 0.0865\n",
      "Iter : 690, Loss = 0.0811\n",
      "Iter : 700, Loss = 0.0762\n",
      "Iter : 710, Loss = 0.0715\n",
      "Iter : 720, Loss = 0.0671\n",
      "Iter : 730, Loss = 0.0630\n",
      "Iter : 740, Loss = 0.0591\n",
      "Iter : 750, Loss = 0.0555\n",
      "Iter : 760, Loss = 0.0521\n",
      "Iter : 770, Loss = 0.0489\n",
      "Iter : 780, Loss = 0.0459\n",
      "Iter : 790, Loss = 0.0431\n",
      "Iter : 800, Loss = 0.0404\n",
      "Iter : 810, Loss = 0.0380\n",
      "Iter : 820, Loss = 0.0356\n",
      "Iter : 830, Loss = 0.0334\n",
      "Iter : 840, Loss = 0.0314\n",
      "Iter : 850, Loss = 0.0295\n",
      "Iter : 860, Loss = 0.0277\n",
      "Iter : 870, Loss = 0.0260\n",
      "Iter : 880, Loss = 0.0244\n",
      "Iter : 890, Loss = 0.0229\n",
      "Iter : 900, Loss = 0.0215\n",
      "Iter : 910, Loss = 0.0201\n",
      "Iter : 920, Loss = 0.0189\n",
      "Iter : 930, Loss = 0.0178\n",
      "Iter : 940, Loss = 0.0167\n",
      "Iter : 950, Loss = 0.0156\n",
      "Iter : 960, Loss = 0.0147\n",
      "Iter : 970, Loss = 0.0138\n",
      "Iter : 980, Loss = 0.0129\n",
      "Iter : 990, Loss = 0.0121\n"
     ]
    }
   ],
   "source": [
    "losses = model.train(x_train, y_train, 1000, 0.003)"
   ]
  },
  {
   "cell_type": "code",
   "execution_count": 276,
   "metadata": {},
   "outputs": [
    {
     "data": {
      "text/plain": [
       "[<matplotlib.lines.Line2D at 0x1afa3909940>]"
      ]
     },
     "execution_count": 276,
     "metadata": {},
     "output_type": "execute_result"
    },
    {
     "data": {
      "image/png": "[encoded data removed]",
      "text/plain": [
       "<Figure size 640x480 with 1 Axes>"
      ]
     },
     "metadata": {},
     "output_type": "display_data"
    }
   ],
   "source": [
    "plt.plot(losses)"
   ]
  },
  {
   "cell_type": "markdown",
   "metadata": {},
   "source": [
    "## Predictions"
   ]
  },
  {
   "cell_type": "code",
   "execution_count": 277,
   "metadata": {},
   "outputs": [
    {
     "name": "stdout",
     "output_type": "stream",
     "text": [
      "(500, 2) (500, 1)\n"
     ]
    }
   ],
   "source": [
    "model_untrained = Model(2)\n",
    "x_test, y_test = generate_examples(500)\n",
    "print(x_test.shape, y_test.shape)"
   ]
  },
  {
   "cell_type": "code",
   "execution_count": 278,
   "metadata": {},
   "outputs": [],
   "source": [
    "preds_untrained = model_untrained.forward_pass(x_test)\n",
    "preds_trained = model.forward_pass(x_test)"
   ]
  },
  {
   "cell_type": "code",
   "execution_count": 279,
   "metadata": {},
   "outputs": [
    {
     "data": {
      "image/png": "[encoded data removed]",
      "text/plain": [
       "<Figure size 600x600 with 1 Axes>"
      ]
     },
     "metadata": {},
     "output_type": "display_data"
    }
   ],
   "source": [
    "plt.figure(figsize = (6, 6))\n",
    "plt.plot(preds_untrained, y_test, 'rx', label = 'Untrained')\n",
    "plt.plot(preds_trained, y_test, 'b.', label = 'Trained')\n",
    "plt.legend()\n",
    "plt.xlabel('Predictions')\n",
    "plt.ylabel('Ground Truth')\n",
    "plt.show()"
   ]
  }
 ],
 "metadata": {
  "kernelspec": {
   "display_name": "Python 3",
   "language": "python",
   "name": "python3"
  },
  "language_info": {
   "codemirror_mode": {
    "name": "ipython",
    "version": 3
   },
   "file_extension": ".py",
   "mimetype": "text/x-python",
   "name": "python",
   "nbconvert_exporter": "python",
   "pygments_lexer": "ipython3",
   "version": "3.12.7"
  }
 },
 "nbformat": 4,
 "nbformat_minor": 2
}
